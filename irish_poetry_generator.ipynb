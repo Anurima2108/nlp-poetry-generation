{
  "nbformat": 4,
  "nbformat_minor": 0,
  "metadata": {
    "colab": {
      "name": "irish-poetry-generator.ipynb",
      "provenance": [],
      "authorship_tag": "ABX9TyO8Ow3a0VFQwL9Q1FkzOCJP",
      "include_colab_link": true
    },
    "kernelspec": {
      "name": "python3",
      "display_name": "Python 3"
    },
    "accelerator": "GPU"
  },
  "cells": [
    {
      "cell_type": "markdown",
      "metadata": {
        "id": "view-in-github",
        "colab_type": "text"
      },
      "source": [
        "<a href=\"https://colab.research.google.com/github/thekaranacharya/nlp-poetry-generation/blob/master/irish_poetry_generator.ipynb\" target=\"_parent\"><img src=\"https://colab.research.google.com/assets/colab-badge.svg\" alt=\"Open In Colab\"/></a>"
      ]
    },
    {
      "cell_type": "markdown",
      "metadata": {
        "id": "-hcy4revdXwd",
        "colab_type": "text"
      },
      "source": [
        "**Automatically generate Irish poetry using Deep Learning**"
      ]
    },
    {
      "cell_type": "markdown",
      "metadata": {
        "id": "SbszNwgYdiV5",
        "colab_type": "text"
      },
      "source": [
        "Import the libraries"
      ]
    },
    {
      "cell_type": "code",
      "metadata": {
        "id": "z481IvHow7P6",
        "colab_type": "code",
        "colab": {
          "base_uri": "https://localhost:8080/",
          "height": 35
        },
        "outputId": "a212c9ae-6b5b-45fc-eed1-18169acd438a"
      },
      "source": [
        "import tensorflow as tf\n",
        "from tensorflow.keras.layers import Embedding, Bidirectional, LSTM, Dense\n",
        "from tensorflow.keras.models import Sequential\n",
        "from tensorflow.keras.preprocessing.text import Tokenizer\n",
        "from tensorflow.keras.preprocessing.sequence import pad_sequences\n",
        "\n",
        "import numpy as np\n",
        "print(tf.__version__)"
      ],
      "execution_count": 1,
      "outputs": [
        {
          "output_type": "stream",
          "text": [
            "2.3.0\n"
          ],
          "name": "stdout"
        }
      ]
    },
    {
      "cell_type": "markdown",
      "metadata": {
        "id": "IMAssebCduDp",
        "colab_type": "text"
      },
      "source": [
        "Download the dataset"
      ]
    },
    {
      "cell_type": "code",
      "metadata": {
        "id": "NEdccqgs8GTj",
        "colab_type": "code",
        "colab": {
          "base_uri": "https://localhost:8080/",
          "height": 70
        },
        "outputId": "a557e23c-9cb2-424e-d8fe-f1219a440338"
      },
      "source": [
        "import os\n",
        "dataset_url = \"https://storage.googleapis.com/laurencemoroney-blog.appspot.com/irish-lyrics-eof.txt\"\n",
        "filename = os.path.join(os.getcwd(), \"irish-lyrics.txt\")\n",
        "tf.keras.utils.get_file(filename, origin=dataset_url)"
      ],
      "execution_count": 2,
      "outputs": [
        {
          "output_type": "stream",
          "text": [
            "Downloading data from https://storage.googleapis.com/laurencemoroney-blog.appspot.com/irish-lyrics-eof.txt\n",
            "73728/68970 [================================] - 0s 0us/step\n"
          ],
          "name": "stdout"
        },
        {
          "output_type": "execute_result",
          "data": {
            "application/vnd.google.colaboratory.intrinsic+json": {
              "type": "string"
            },
            "text/plain": [
              "'/content/irish-lyrics.txt'"
            ]
          },
          "metadata": {
            "tags": []
          },
          "execution_count": 2
        }
      ]
    },
    {
      "cell_type": "markdown",
      "metadata": {
        "id": "QBudLaeUd2Ha",
        "colab_type": "text"
      },
      "source": [
        "Read the contents of the dataset and add to corpus"
      ]
    },
    {
      "cell_type": "code",
      "metadata": {
        "id": "TBgbp4XC8M7L",
        "colab_type": "code",
        "colab": {
          "base_uri": "https://localhost:8080/",
          "height": 190
        },
        "outputId": "c7741d7d-7576-4531-f30b-67c1ea806967"
      },
      "source": [
        "corpus = []\n",
        "with open(filename, 'r') as f:\n",
        "    for line in f:\n",
        "        line = line.replace(\"\\n\", \"\")\n",
        "        corpus.append(line)\n",
        "\n",
        "corpus[: 10]"
      ],
      "execution_count": 34,
      "outputs": [
        {
          "output_type": "execute_result",
          "data": {
            "text/plain": [
              "['Come all ye maidens young and fair',\n",
              " 'And you that are blooming in your prime',\n",
              " 'Always beware and keep your garden fair',\n",
              " 'Let no man steal away your thyme',\n",
              " 'For thyme it is a precious thing',\n",
              " 'And thyme brings all things to my mind',\n",
              " 'nlyme with all its flavours, along with all its joys',\n",
              " 'Thyme, brings all things to my mind',\n",
              " 'Once I and a bunch of thyme',\n",
              " 'i thought it never would decay']"
            ]
          },
          "metadata": {
            "tags": []
          },
          "execution_count": 34
        }
      ]
    },
    {
      "cell_type": "code",
      "metadata": {
        "id": "0d8NIi3p8Rf0",
        "colab_type": "code",
        "colab": {
          "base_uri": "https://localhost:8080/",
          "height": 86
        },
        "outputId": "94facce8-52f1-4fe0-80ae-6b4f66e11b54"
      },
      "source": [
        "import itertools\n",
        "tokenizer = Tokenizer()\n",
        "tokenizer.fit_on_texts(corpus)\n",
        "word_index = tokenizer.word_index\n",
        "vocab_size = len(word_index)\n",
        "\n",
        "print(\"Word Index Items (first 10) :\\n\", dict(itertools.islice(word_index.items(), 10)))\n",
        "print(\"\\n Vocab Size : \", vocab_size)"
      ],
      "execution_count": 38,
      "outputs": [
        {
          "output_type": "stream",
          "text": [
            "Word Index Items (first 10) :\n",
            " {'the': 1, 'and': 2, 'i': 3, 'to': 4, 'a': 5, 'of': 6, 'my': 7, 'in': 8, 'me': 9, 'for': 10}\n",
            "\n",
            " Vocab Size :  2689\n"
          ],
          "name": "stdout"
        }
      ]
    },
    {
      "cell_type": "markdown",
      "metadata": {
        "id": "3L9I-seGfLxN",
        "colab_type": "text"
      },
      "source": [
        "Convert all text to corresponding tokens and generate all combinations of inputs"
      ]
    },
    {
      "cell_type": "code",
      "metadata": {
        "id": "V9ASLBX88coY",
        "colab_type": "code",
        "colab": {
          "base_uri": "https://localhost:8080/",
          "height": 190
        },
        "outputId": "ba5647d9-5e68-483a-b7e4-442b60ed0948"
      },
      "source": [
        "input_sequences = []\n",
        "sequences = tokenizer.texts_to_sequences(corpus)\n",
        "\n",
        "for sequence in sequences:\n",
        "    for i in range(1, len(sequence)):\n",
        "        n_gram = sequence[: i + 1]\n",
        "        input_sequences.append(n_gram)\n",
        "\n",
        "input_sequences[: 10]"
      ],
      "execution_count": 39,
      "outputs": [
        {
          "output_type": "execute_result",
          "data": {
            "text/plain": [
              "[[51, 12],\n",
              " [51, 12, 96],\n",
              " [51, 12, 96, 1217],\n",
              " [51, 12, 96, 1217, 48],\n",
              " [51, 12, 96, 1217, 48, 2],\n",
              " [51, 12, 96, 1217, 48, 2, 69],\n",
              " [2, 11],\n",
              " [2, 11, 15],\n",
              " [2, 11, 15, 31],\n",
              " [2, 11, 15, 31, 361]]"
            ]
          },
          "metadata": {
            "tags": []
          },
          "execution_count": 39
        }
      ]
    },
    {
      "cell_type": "markdown",
      "metadata": {
        "id": "k7ww2PycfXcp",
        "colab_type": "text"
      },
      "source": [
        "Pad the input sequences and get x & y"
      ]
    },
    {
      "cell_type": "code",
      "metadata": {
        "id": "ctPYAWaj8hkz",
        "colab_type": "code",
        "colab": {}
      },
      "source": [
        "MAX_LENGTH = max(len(n_gram) for n_gram in input_sequences)\n",
        "padded = pad_sequences(input_sequences, maxlen=MAX_LENGTH, padding='pre')\n",
        "\n",
        "\n",
        "x, labels = padded[:, : -1], padded[:, -1]\n",
        "\n",
        "# one-hot encode the labels\n",
        "y = tf.keras.utils.to_categorical(labels, num_classes=vocab_size + 1)"
      ],
      "execution_count": 41,
      "outputs": []
    },
    {
      "cell_type": "markdown",
      "metadata": {
        "id": "tywQZlmAfplB",
        "colab_type": "text"
      },
      "source": [
        "Define the model"
      ]
    },
    {
      "cell_type": "code",
      "metadata": {
        "id": "DVBwbOEI8xFx",
        "colab_type": "code",
        "colab": {
          "base_uri": "https://localhost:8080/",
          "height": 328
        },
        "outputId": "79213def-69ae-43e3-95bb-5f868cab41ce"
      },
      "source": [
        "model = Sequential([\n",
        "    Embedding(input_dim=vocab_size + 1, output_dim=128, input_length=MAX_LENGTH - 1),\n",
        "    LSTM(128, return_sequences=True),\n",
        "    LSTM(64),\n",
        "    Dense(100, 'relu'),\n",
        "    Dense(vocab_size + 1, 'softmax')\n",
        "])\n",
        "\n",
        "model.compile(loss='categorical_crossentropy', \n",
        "              optimizer='adam', \n",
        "              metrics=['accuracy'])\n",
        "model.summary()"
      ],
      "execution_count": 21,
      "outputs": [
        {
          "output_type": "stream",
          "text": [
            "Model: \"sequential_5\"\n",
            "_________________________________________________________________\n",
            "Layer (type)                 Output Shape              Param #   \n",
            "=================================================================\n",
            "embedding_5 (Embedding)      (None, 15, 128)           344320    \n",
            "_________________________________________________________________\n",
            "lstm_7 (LSTM)                (None, 15, 128)           131584    \n",
            "_________________________________________________________________\n",
            "lstm_8 (LSTM)                (None, 64)                49408     \n",
            "_________________________________________________________________\n",
            "dense_7 (Dense)              (None, 100)               6500      \n",
            "_________________________________________________________________\n",
            "dense_8 (Dense)              (None, 2690)              271690    \n",
            "=================================================================\n",
            "Total params: 803,502\n",
            "Trainable params: 803,502\n",
            "Non-trainable params: 0\n",
            "_________________________________________________________________\n"
          ],
          "name": "stdout"
        }
      ]
    },
    {
      "cell_type": "markdown",
      "metadata": {
        "id": "asoSdQKTfr2c",
        "colab_type": "text"
      },
      "source": [
        "Fit"
      ]
    },
    {
      "cell_type": "code",
      "metadata": {
        "id": "4chMVI7U81ZS",
        "colab_type": "code",
        "colab": {
          "base_uri": "https://localhost:8080/",
          "height": 1000
        },
        "outputId": "e9ae5954-68c2-4273-b4e2-67915eb36074"
      },
      "source": [
        "history = model.fit(x, y, epochs=300)"
      ],
      "execution_count": 22,
      "outputs": [
        {
          "output_type": "stream",
          "text": [
            "Epoch 1/300\n",
            "377/377 [==============================] - 7s 19ms/step - loss: 6.7724 - accuracy: 0.0629\n",
            "Epoch 2/300\n",
            "377/377 [==============================] - 7s 19ms/step - loss: 6.2888 - accuracy: 0.0668\n",
            "Epoch 3/300\n",
            "377/377 [==============================] - 7s 18ms/step - loss: 6.0807 - accuracy: 0.0754\n",
            "Epoch 4/300\n",
            "377/377 [==============================] - 7s 18ms/step - loss: 5.9310 - accuracy: 0.0787\n",
            "Epoch 5/300\n",
            "377/377 [==============================] - 7s 18ms/step - loss: 5.7907 - accuracy: 0.0871\n",
            "Epoch 6/300\n",
            "377/377 [==============================] - 7s 18ms/step - loss: 5.6603 - accuracy: 0.0921\n",
            "Epoch 7/300\n",
            "377/377 [==============================] - 7s 18ms/step - loss: 5.5376 - accuracy: 0.1002\n",
            "Epoch 8/300\n",
            "377/377 [==============================] - 7s 18ms/step - loss: 5.4216 - accuracy: 0.1048\n",
            "Epoch 9/300\n",
            "377/377 [==============================] - 7s 18ms/step - loss: 5.3229 - accuracy: 0.1103\n",
            "Epoch 10/300\n",
            "377/377 [==============================] - 7s 18ms/step - loss: 5.2274 - accuracy: 0.1151\n",
            "Epoch 11/300\n",
            "377/377 [==============================] - 7s 18ms/step - loss: 5.1358 - accuracy: 0.1206\n",
            "Epoch 12/300\n",
            "377/377 [==============================] - 7s 18ms/step - loss: 5.0467 - accuracy: 0.1231\n",
            "Epoch 13/300\n",
            "377/377 [==============================] - 7s 18ms/step - loss: 4.9576 - accuracy: 0.1263\n",
            "Epoch 14/300\n",
            "377/377 [==============================] - 7s 18ms/step - loss: 4.8662 - accuracy: 0.1329\n",
            "Epoch 15/300\n",
            "377/377 [==============================] - 7s 18ms/step - loss: 4.7758 - accuracy: 0.1352\n",
            "Epoch 16/300\n",
            "377/377 [==============================] - 7s 18ms/step - loss: 4.6789 - accuracy: 0.1396\n",
            "Epoch 17/300\n",
            "377/377 [==============================] - 7s 18ms/step - loss: 4.5820 - accuracy: 0.1432\n",
            "Epoch 18/300\n",
            "377/377 [==============================] - 7s 18ms/step - loss: 4.4891 - accuracy: 0.1501\n",
            "Epoch 19/300\n",
            "377/377 [==============================] - 7s 18ms/step - loss: 4.3950 - accuracy: 0.1602\n",
            "Epoch 20/300\n",
            "377/377 [==============================] - 7s 18ms/step - loss: 4.2959 - accuracy: 0.1683\n",
            "Epoch 21/300\n",
            "377/377 [==============================] - 7s 18ms/step - loss: 4.2054 - accuracy: 0.1739\n",
            "Epoch 22/300\n",
            "377/377 [==============================] - 7s 18ms/step - loss: 4.1094 - accuracy: 0.1838\n",
            "Epoch 23/300\n",
            "377/377 [==============================] - 7s 18ms/step - loss: 4.0276 - accuracy: 0.1907\n",
            "Epoch 24/300\n",
            "377/377 [==============================] - 7s 18ms/step - loss: 3.9385 - accuracy: 0.1976\n",
            "Epoch 25/300\n",
            "377/377 [==============================] - 7s 18ms/step - loss: 3.8508 - accuracy: 0.2093\n",
            "Epoch 26/300\n",
            "377/377 [==============================] - 7s 18ms/step - loss: 3.7694 - accuracy: 0.2147\n",
            "Epoch 27/300\n",
            "377/377 [==============================] - 7s 18ms/step - loss: 3.6842 - accuracy: 0.2229\n",
            "Epoch 28/300\n",
            "377/377 [==============================] - 7s 18ms/step - loss: 3.6123 - accuracy: 0.2325\n",
            "Epoch 29/300\n",
            "377/377 [==============================] - 7s 18ms/step - loss: 3.5360 - accuracy: 0.2429\n",
            "Epoch 30/300\n",
            "377/377 [==============================] - 7s 18ms/step - loss: 3.4574 - accuracy: 0.2531\n",
            "Epoch 31/300\n",
            "377/377 [==============================] - 7s 18ms/step - loss: 3.3831 - accuracy: 0.2652\n",
            "Epoch 32/300\n",
            "377/377 [==============================] - 7s 18ms/step - loss: 3.3143 - accuracy: 0.2755\n",
            "Epoch 33/300\n",
            "377/377 [==============================] - 7s 18ms/step - loss: 3.2441 - accuracy: 0.2841\n",
            "Epoch 34/300\n",
            "377/377 [==============================] - 7s 18ms/step - loss: 3.1796 - accuracy: 0.2974\n",
            "Epoch 35/300\n",
            "377/377 [==============================] - 7s 18ms/step - loss: 3.1116 - accuracy: 0.3109\n",
            "Epoch 36/300\n",
            "377/377 [==============================] - 7s 18ms/step - loss: 3.0456 - accuracy: 0.3153\n",
            "Epoch 37/300\n",
            "377/377 [==============================] - 7s 18ms/step - loss: 2.9827 - accuracy: 0.3280\n",
            "Epoch 38/300\n",
            "377/377 [==============================] - 7s 18ms/step - loss: 2.9192 - accuracy: 0.3362\n",
            "Epoch 39/300\n",
            "377/377 [==============================] - 7s 18ms/step - loss: 2.8679 - accuracy: 0.3464\n",
            "Epoch 40/300\n",
            "377/377 [==============================] - 7s 18ms/step - loss: 2.8068 - accuracy: 0.3559\n",
            "Epoch 41/300\n",
            "377/377 [==============================] - 7s 18ms/step - loss: 2.7508 - accuracy: 0.3692\n",
            "Epoch 42/300\n",
            "377/377 [==============================] - 7s 18ms/step - loss: 2.6990 - accuracy: 0.3788\n",
            "Epoch 43/300\n",
            "377/377 [==============================] - 7s 18ms/step - loss: 2.6439 - accuracy: 0.3929\n",
            "Epoch 44/300\n",
            "377/377 [==============================] - 7s 18ms/step - loss: 2.5963 - accuracy: 0.4016\n",
            "Epoch 45/300\n",
            "377/377 [==============================] - 7s 19ms/step - loss: 2.5484 - accuracy: 0.4078\n",
            "Epoch 46/300\n",
            "377/377 [==============================] - 7s 18ms/step - loss: 2.4926 - accuracy: 0.4230\n",
            "Epoch 47/300\n",
            "377/377 [==============================] - 7s 18ms/step - loss: 2.4484 - accuracy: 0.4300\n",
            "Epoch 48/300\n",
            "377/377 [==============================] - 7s 19ms/step - loss: 2.4011 - accuracy: 0.4386\n",
            "Epoch 49/300\n",
            "377/377 [==============================] - 7s 18ms/step - loss: 2.3608 - accuracy: 0.4454\n",
            "Epoch 50/300\n",
            "377/377 [==============================] - 7s 18ms/step - loss: 2.3113 - accuracy: 0.4532\n",
            "Epoch 51/300\n",
            "377/377 [==============================] - 7s 18ms/step - loss: 2.2694 - accuracy: 0.4644\n",
            "Epoch 52/300\n",
            "377/377 [==============================] - 7s 18ms/step - loss: 2.2248 - accuracy: 0.4695\n",
            "Epoch 53/300\n",
            "377/377 [==============================] - 7s 18ms/step - loss: 2.1793 - accuracy: 0.4827\n",
            "Epoch 54/300\n",
            "377/377 [==============================] - 7s 18ms/step - loss: 2.1414 - accuracy: 0.4911\n",
            "Epoch 55/300\n",
            "377/377 [==============================] - 7s 18ms/step - loss: 2.1016 - accuracy: 0.5008\n",
            "Epoch 56/300\n",
            "377/377 [==============================] - 7s 18ms/step - loss: 2.0563 - accuracy: 0.5103\n",
            "Epoch 57/300\n",
            "377/377 [==============================] - 7s 18ms/step - loss: 2.0149 - accuracy: 0.5184\n",
            "Epoch 58/300\n",
            "377/377 [==============================] - 7s 18ms/step - loss: 1.9721 - accuracy: 0.5255\n",
            "Epoch 59/300\n",
            "377/377 [==============================] - 7s 18ms/step - loss: 1.9383 - accuracy: 0.5381\n",
            "Epoch 60/300\n",
            "377/377 [==============================] - 7s 18ms/step - loss: 1.9012 - accuracy: 0.5415\n",
            "Epoch 61/300\n",
            "377/377 [==============================] - 7s 18ms/step - loss: 1.8684 - accuracy: 0.5476\n",
            "Epoch 62/300\n",
            "377/377 [==============================] - 7s 18ms/step - loss: 1.8448 - accuracy: 0.5547\n",
            "Epoch 63/300\n",
            "377/377 [==============================] - 7s 18ms/step - loss: 1.8001 - accuracy: 0.5658\n",
            "Epoch 64/300\n",
            "377/377 [==============================] - 7s 18ms/step - loss: 1.7601 - accuracy: 0.5739\n",
            "Epoch 65/300\n",
            "377/377 [==============================] - 7s 18ms/step - loss: 1.7296 - accuracy: 0.5784\n",
            "Epoch 66/300\n",
            "377/377 [==============================] - 7s 18ms/step - loss: 1.7043 - accuracy: 0.5861\n",
            "Epoch 67/300\n",
            "377/377 [==============================] - 7s 18ms/step - loss: 1.6716 - accuracy: 0.5920\n",
            "Epoch 68/300\n",
            "377/377 [==============================] - 7s 18ms/step - loss: 1.6264 - accuracy: 0.6051\n",
            "Epoch 69/300\n",
            "377/377 [==============================] - 7s 18ms/step - loss: 1.6027 - accuracy: 0.6067\n",
            "Epoch 70/300\n",
            "377/377 [==============================] - 7s 18ms/step - loss: 1.5704 - accuracy: 0.6188\n",
            "Epoch 71/300\n",
            "377/377 [==============================] - 7s 18ms/step - loss: 1.5382 - accuracy: 0.6237\n",
            "Epoch 72/300\n",
            "377/377 [==============================] - 7s 18ms/step - loss: 1.5115 - accuracy: 0.6301\n",
            "Epoch 73/300\n",
            "377/377 [==============================] - 7s 18ms/step - loss: 1.4884 - accuracy: 0.6340\n",
            "Epoch 74/300\n",
            "377/377 [==============================] - 7s 18ms/step - loss: 1.4684 - accuracy: 0.6401\n",
            "Epoch 75/300\n",
            "377/377 [==============================] - 7s 18ms/step - loss: 1.4331 - accuracy: 0.6461\n",
            "Epoch 76/300\n",
            "377/377 [==============================] - 7s 18ms/step - loss: 1.4041 - accuracy: 0.6567\n",
            "Epoch 77/300\n",
            "377/377 [==============================] - 7s 18ms/step - loss: 1.3739 - accuracy: 0.6620\n",
            "Epoch 78/300\n",
            "377/377 [==============================] - 7s 18ms/step - loss: 1.3536 - accuracy: 0.6697\n",
            "Epoch 79/300\n",
            "377/377 [==============================] - 7s 18ms/step - loss: 1.3335 - accuracy: 0.6721\n",
            "Epoch 80/300\n",
            "377/377 [==============================] - 7s 18ms/step - loss: 1.2986 - accuracy: 0.6841\n",
            "Epoch 81/300\n",
            "377/377 [==============================] - 7s 18ms/step - loss: 1.2905 - accuracy: 0.6787\n",
            "Epoch 82/300\n",
            "377/377 [==============================] - 7s 18ms/step - loss: 1.2749 - accuracy: 0.6892\n",
            "Epoch 83/300\n",
            "377/377 [==============================] - 7s 18ms/step - loss: 1.2467 - accuracy: 0.6936\n",
            "Epoch 84/300\n",
            "377/377 [==============================] - 7s 18ms/step - loss: 1.2175 - accuracy: 0.7039\n",
            "Epoch 85/300\n",
            "377/377 [==============================] - 7s 18ms/step - loss: 1.1987 - accuracy: 0.7073\n",
            "Epoch 86/300\n",
            "377/377 [==============================] - 7s 18ms/step - loss: 1.1764 - accuracy: 0.7127\n",
            "Epoch 87/300\n",
            "377/377 [==============================] - 7s 18ms/step - loss: 1.1490 - accuracy: 0.7196\n",
            "Epoch 88/300\n",
            "377/377 [==============================] - 7s 18ms/step - loss: 1.1377 - accuracy: 0.7228\n",
            "Epoch 89/300\n",
            "377/377 [==============================] - 7s 18ms/step - loss: 1.1169 - accuracy: 0.7274\n",
            "Epoch 90/300\n",
            "377/377 [==============================] - 7s 18ms/step - loss: 1.0945 - accuracy: 0.7315\n",
            "Epoch 91/300\n",
            "377/377 [==============================] - 7s 18ms/step - loss: 1.0804 - accuracy: 0.7357\n",
            "Epoch 92/300\n",
            "377/377 [==============================] - 7s 18ms/step - loss: 1.0661 - accuracy: 0.7357\n",
            "Epoch 93/300\n",
            "377/377 [==============================] - 7s 18ms/step - loss: 1.0535 - accuracy: 0.7417\n",
            "Epoch 94/300\n",
            "377/377 [==============================] - 7s 19ms/step - loss: 1.0353 - accuracy: 0.7475\n",
            "Epoch 95/300\n",
            "377/377 [==============================] - 7s 18ms/step - loss: 1.0263 - accuracy: 0.7501\n",
            "Epoch 96/300\n",
            "377/377 [==============================] - 7s 18ms/step - loss: 0.9939 - accuracy: 0.7589\n",
            "Epoch 97/300\n",
            "377/377 [==============================] - 7s 18ms/step - loss: 0.9711 - accuracy: 0.7623\n",
            "Epoch 98/300\n",
            "377/377 [==============================] - 7s 18ms/step - loss: 0.9633 - accuracy: 0.7656\n",
            "Epoch 99/300\n",
            "377/377 [==============================] - 7s 18ms/step - loss: 0.9616 - accuracy: 0.7636\n",
            "Epoch 100/300\n",
            "377/377 [==============================] - 7s 18ms/step - loss: 0.9598 - accuracy: 0.7625\n",
            "Epoch 101/300\n",
            "377/377 [==============================] - 7s 18ms/step - loss: 0.9323 - accuracy: 0.7702\n",
            "Epoch 102/300\n",
            "377/377 [==============================] - 7s 18ms/step - loss: 0.9212 - accuracy: 0.7762\n",
            "Epoch 103/300\n",
            "377/377 [==============================] - 7s 18ms/step - loss: 0.9127 - accuracy: 0.7730\n",
            "Epoch 104/300\n",
            "377/377 [==============================] - 7s 18ms/step - loss: 0.8849 - accuracy: 0.7831\n",
            "Epoch 105/300\n",
            "377/377 [==============================] - 7s 18ms/step - loss: 0.8784 - accuracy: 0.7835\n",
            "Epoch 106/300\n",
            "377/377 [==============================] - 7s 18ms/step - loss: 0.8713 - accuracy: 0.7877\n",
            "Epoch 107/300\n",
            "377/377 [==============================] - 7s 18ms/step - loss: 0.8595 - accuracy: 0.7917\n",
            "Epoch 108/300\n",
            "377/377 [==============================] - 7s 18ms/step - loss: 0.8358 - accuracy: 0.7971\n",
            "Epoch 109/300\n",
            "377/377 [==============================] - 7s 18ms/step - loss: 0.8317 - accuracy: 0.7965\n",
            "Epoch 110/300\n",
            "377/377 [==============================] - 7s 18ms/step - loss: 0.8284 - accuracy: 0.7951\n",
            "Epoch 111/300\n",
            "377/377 [==============================] - 7s 18ms/step - loss: 0.8186 - accuracy: 0.7966\n",
            "Epoch 112/300\n",
            "377/377 [==============================] - 7s 18ms/step - loss: 0.8198 - accuracy: 0.7971\n",
            "Epoch 113/300\n",
            "377/377 [==============================] - 7s 18ms/step - loss: 0.8119 - accuracy: 0.8006\n",
            "Epoch 114/300\n",
            "377/377 [==============================] - 7s 18ms/step - loss: 0.8087 - accuracy: 0.7993\n",
            "Epoch 115/300\n",
            "377/377 [==============================] - 7s 18ms/step - loss: 0.7828 - accuracy: 0.8052\n",
            "Epoch 116/300\n",
            "377/377 [==============================] - 7s 18ms/step - loss: 0.7652 - accuracy: 0.8095\n",
            "Epoch 117/300\n",
            "377/377 [==============================] - 7s 18ms/step - loss: 0.7574 - accuracy: 0.8144\n",
            "Epoch 118/300\n",
            "377/377 [==============================] - 7s 18ms/step - loss: 0.7557 - accuracy: 0.8143\n",
            "Epoch 119/300\n",
            "377/377 [==============================] - 7s 18ms/step - loss: 0.7488 - accuracy: 0.8133\n",
            "Epoch 120/300\n",
            "377/377 [==============================] - 7s 18ms/step - loss: 0.7816 - accuracy: 0.8019\n",
            "Epoch 121/300\n",
            "377/377 [==============================] - 7s 18ms/step - loss: 0.7522 - accuracy: 0.8114\n",
            "Epoch 122/300\n",
            "377/377 [==============================] - 7s 18ms/step - loss: 0.7377 - accuracy: 0.8125\n",
            "Epoch 123/300\n",
            "377/377 [==============================] - 7s 18ms/step - loss: 0.7224 - accuracy: 0.8211\n",
            "Epoch 124/300\n",
            "377/377 [==============================] - 7s 18ms/step - loss: 0.7121 - accuracy: 0.8240\n",
            "Epoch 125/300\n",
            "377/377 [==============================] - 7s 18ms/step - loss: 0.7076 - accuracy: 0.8212\n",
            "Epoch 126/300\n",
            "377/377 [==============================] - 7s 18ms/step - loss: 0.7146 - accuracy: 0.8187\n",
            "Epoch 127/300\n",
            "377/377 [==============================] - 7s 18ms/step - loss: 0.7209 - accuracy: 0.8163\n",
            "Epoch 128/300\n",
            "377/377 [==============================] - 7s 18ms/step - loss: 0.7022 - accuracy: 0.8236\n",
            "Epoch 129/300\n",
            "377/377 [==============================] - 7s 18ms/step - loss: 0.7220 - accuracy: 0.8180\n",
            "Epoch 130/300\n",
            "377/377 [==============================] - 7s 18ms/step - loss: 0.7064 - accuracy: 0.8193\n",
            "Epoch 131/300\n",
            "377/377 [==============================] - 7s 18ms/step - loss: 0.6861 - accuracy: 0.8252\n",
            "Epoch 132/300\n",
            "377/377 [==============================] - 7s 18ms/step - loss: 0.6601 - accuracy: 0.8319\n",
            "Epoch 133/300\n",
            "377/377 [==============================] - 7s 18ms/step - loss: 0.6540 - accuracy: 0.8348\n",
            "Epoch 134/300\n",
            "377/377 [==============================] - 7s 18ms/step - loss: 0.6451 - accuracy: 0.8372\n",
            "Epoch 135/300\n",
            "377/377 [==============================] - 7s 18ms/step - loss: 0.6494 - accuracy: 0.8345\n",
            "Epoch 136/300\n",
            "377/377 [==============================] - 7s 18ms/step - loss: 0.6667 - accuracy: 0.8281\n",
            "Epoch 137/300\n",
            "377/377 [==============================] - 7s 18ms/step - loss: 0.6747 - accuracy: 0.8259\n",
            "Epoch 138/300\n",
            "377/377 [==============================] - 7s 18ms/step - loss: 0.6876 - accuracy: 0.8210\n",
            "Epoch 139/300\n",
            "377/377 [==============================] - 7s 18ms/step - loss: 0.6653 - accuracy: 0.8279\n",
            "Epoch 140/300\n",
            "377/377 [==============================] - 7s 19ms/step - loss: 0.6448 - accuracy: 0.8331\n",
            "Epoch 141/300\n",
            "377/377 [==============================] - 7s 18ms/step - loss: 0.6354 - accuracy: 0.8355\n",
            "Epoch 142/300\n",
            "377/377 [==============================] - 7s 18ms/step - loss: 0.6243 - accuracy: 0.8384\n",
            "Epoch 143/300\n",
            "377/377 [==============================] - 7s 18ms/step - loss: 0.6086 - accuracy: 0.8423\n",
            "Epoch 144/300\n",
            "377/377 [==============================] - 7s 18ms/step - loss: 0.6139 - accuracy: 0.8427\n",
            "Epoch 145/300\n",
            "377/377 [==============================] - 7s 18ms/step - loss: 0.6300 - accuracy: 0.8373\n",
            "Epoch 146/300\n",
            "377/377 [==============================] - 7s 18ms/step - loss: 0.6377 - accuracy: 0.8361\n",
            "Epoch 147/300\n",
            "377/377 [==============================] - 7s 18ms/step - loss: 0.6198 - accuracy: 0.8378\n",
            "Epoch 148/300\n",
            "377/377 [==============================] - 7s 18ms/step - loss: 0.6227 - accuracy: 0.8360\n",
            "Epoch 149/300\n",
            "377/377 [==============================] - 7s 18ms/step - loss: 0.6343 - accuracy: 0.8344\n",
            "Epoch 150/300\n",
            "377/377 [==============================] - 7s 18ms/step - loss: 0.6244 - accuracy: 0.8353\n",
            "Epoch 151/300\n",
            "377/377 [==============================] - 7s 18ms/step - loss: 0.6045 - accuracy: 0.8396\n",
            "Epoch 152/300\n",
            "377/377 [==============================] - 7s 18ms/step - loss: 0.6019 - accuracy: 0.8381\n",
            "Epoch 153/300\n",
            "377/377 [==============================] - 7s 18ms/step - loss: 0.5899 - accuracy: 0.8455\n",
            "Epoch 154/300\n",
            "377/377 [==============================] - 7s 18ms/step - loss: 0.5911 - accuracy: 0.8430\n",
            "Epoch 155/300\n",
            "377/377 [==============================] - 7s 18ms/step - loss: 0.6024 - accuracy: 0.8405\n",
            "Epoch 156/300\n",
            "377/377 [==============================] - 7s 18ms/step - loss: 0.6210 - accuracy: 0.8339\n",
            "Epoch 157/300\n",
            "377/377 [==============================] - 7s 18ms/step - loss: 0.6088 - accuracy: 0.8383\n",
            "Epoch 158/300\n",
            "377/377 [==============================] - 7s 18ms/step - loss: 0.5959 - accuracy: 0.8415\n",
            "Epoch 159/300\n",
            "377/377 [==============================] - 7s 18ms/step - loss: 0.5763 - accuracy: 0.8467\n",
            "Epoch 160/300\n",
            "377/377 [==============================] - 7s 18ms/step - loss: 0.5874 - accuracy: 0.8448\n",
            "Epoch 161/300\n",
            "377/377 [==============================] - 7s 18ms/step - loss: 0.5875 - accuracy: 0.8422\n",
            "Epoch 162/300\n",
            "377/377 [==============================] - 7s 18ms/step - loss: 0.5818 - accuracy: 0.8430\n",
            "Epoch 163/300\n",
            "377/377 [==============================] - 7s 18ms/step - loss: 0.5936 - accuracy: 0.8408\n",
            "Epoch 164/300\n",
            "377/377 [==============================] - 7s 18ms/step - loss: 0.5959 - accuracy: 0.8400\n",
            "Epoch 165/300\n",
            "377/377 [==============================] - 7s 18ms/step - loss: 0.5846 - accuracy: 0.8412\n",
            "Epoch 166/300\n",
            "377/377 [==============================] - 7s 18ms/step - loss: 0.5739 - accuracy: 0.8432\n",
            "Epoch 167/300\n",
            "377/377 [==============================] - 7s 18ms/step - loss: 0.5737 - accuracy: 0.8446\n",
            "Epoch 168/300\n",
            "377/377 [==============================] - 7s 18ms/step - loss: 0.5638 - accuracy: 0.8468\n",
            "Epoch 169/300\n",
            "377/377 [==============================] - 7s 18ms/step - loss: 0.5638 - accuracy: 0.8478\n",
            "Epoch 170/300\n",
            "377/377 [==============================] - 7s 18ms/step - loss: 0.5698 - accuracy: 0.8473\n",
            "Epoch 171/300\n",
            "377/377 [==============================] - 7s 18ms/step - loss: 0.5778 - accuracy: 0.8414\n",
            "Epoch 172/300\n",
            "377/377 [==============================] - 7s 18ms/step - loss: 0.5949 - accuracy: 0.8355\n",
            "Epoch 173/300\n",
            "377/377 [==============================] - 7s 18ms/step - loss: 0.5875 - accuracy: 0.8378\n",
            "Epoch 174/300\n",
            "377/377 [==============================] - 7s 18ms/step - loss: 0.5693 - accuracy: 0.8442\n",
            "Epoch 175/300\n",
            "377/377 [==============================] - 7s 18ms/step - loss: 0.5561 - accuracy: 0.8478\n",
            "Epoch 176/300\n",
            "377/377 [==============================] - 7s 18ms/step - loss: 0.5471 - accuracy: 0.8483\n",
            "Epoch 177/300\n",
            "377/377 [==============================] - 7s 18ms/step - loss: 0.5406 - accuracy: 0.8518\n",
            "Epoch 178/300\n",
            "377/377 [==============================] - 7s 18ms/step - loss: 0.5485 - accuracy: 0.8489\n",
            "Epoch 179/300\n",
            "377/377 [==============================] - 7s 18ms/step - loss: 0.5477 - accuracy: 0.8482\n",
            "Epoch 180/300\n",
            "377/377 [==============================] - 7s 18ms/step - loss: 0.5621 - accuracy: 0.8469\n",
            "Epoch 181/300\n",
            "377/377 [==============================] - 7s 18ms/step - loss: 0.5906 - accuracy: 0.8346\n",
            "Epoch 182/300\n",
            "377/377 [==============================] - 7s 18ms/step - loss: 0.5780 - accuracy: 0.8401\n",
            "Epoch 183/300\n",
            "377/377 [==============================] - 7s 18ms/step - loss: 0.5581 - accuracy: 0.8460\n",
            "Epoch 184/300\n",
            "377/377 [==============================] - 7s 18ms/step - loss: 0.5437 - accuracy: 0.8483\n",
            "Epoch 185/300\n",
            "377/377 [==============================] - 7s 19ms/step - loss: 0.5363 - accuracy: 0.8503\n",
            "Epoch 186/300\n",
            "377/377 [==============================] - 7s 19ms/step - loss: 0.5289 - accuracy: 0.8509\n",
            "Epoch 187/300\n",
            "377/377 [==============================] - 7s 18ms/step - loss: 0.5285 - accuracy: 0.8512\n",
            "Epoch 188/300\n",
            "377/377 [==============================] - 7s 18ms/step - loss: 0.5321 - accuracy: 0.8517\n",
            "Epoch 189/300\n",
            "377/377 [==============================] - 7s 18ms/step - loss: 0.5538 - accuracy: 0.8457\n",
            "Epoch 190/300\n",
            "377/377 [==============================] - 7s 18ms/step - loss: 0.6165 - accuracy: 0.8293\n",
            "Epoch 191/300\n",
            "377/377 [==============================] - 7s 18ms/step - loss: 0.5937 - accuracy: 0.8329\n",
            "Epoch 192/300\n",
            "377/377 [==============================] - 7s 18ms/step - loss: 0.5549 - accuracy: 0.8425\n",
            "Epoch 193/300\n",
            "377/377 [==============================] - 7s 18ms/step - loss: 0.5309 - accuracy: 0.8494\n",
            "Epoch 194/300\n",
            "377/377 [==============================] - 7s 18ms/step - loss: 0.5271 - accuracy: 0.8503\n",
            "Epoch 195/300\n",
            "377/377 [==============================] - 7s 18ms/step - loss: 0.5223 - accuracy: 0.8529\n",
            "Epoch 196/300\n",
            "377/377 [==============================] - 7s 18ms/step - loss: 0.5185 - accuracy: 0.8522\n",
            "Epoch 197/300\n",
            "377/377 [==============================] - 7s 18ms/step - loss: 0.5219 - accuracy: 0.8519\n",
            "Epoch 198/300\n",
            "377/377 [==============================] - 7s 18ms/step - loss: 0.5363 - accuracy: 0.8467\n",
            "Epoch 199/300\n",
            "377/377 [==============================] - 7s 18ms/step - loss: 0.5498 - accuracy: 0.8445\n",
            "Epoch 200/300\n",
            "377/377 [==============================] - 7s 18ms/step - loss: 0.5677 - accuracy: 0.8395\n",
            "Epoch 201/300\n",
            "377/377 [==============================] - 7s 18ms/step - loss: 0.5529 - accuracy: 0.8424\n",
            "Epoch 202/300\n",
            "377/377 [==============================] - 7s 18ms/step - loss: 0.5396 - accuracy: 0.8472\n",
            "Epoch 203/300\n",
            "377/377 [==============================] - 7s 18ms/step - loss: 0.5232 - accuracy: 0.8482\n",
            "Epoch 204/300\n",
            "377/377 [==============================] - 7s 18ms/step - loss: 0.5168 - accuracy: 0.8514\n",
            "Epoch 205/300\n",
            "377/377 [==============================] - 7s 18ms/step - loss: 0.5198 - accuracy: 0.8520\n",
            "Epoch 206/300\n",
            "377/377 [==============================] - 7s 18ms/step - loss: 0.5234 - accuracy: 0.8513\n",
            "Epoch 207/300\n",
            "377/377 [==============================] - 7s 18ms/step - loss: 0.5281 - accuracy: 0.8495\n",
            "Epoch 208/300\n",
            "377/377 [==============================] - 7s 18ms/step - loss: 0.5299 - accuracy: 0.8484\n",
            "Epoch 209/300\n",
            "377/377 [==============================] - 7s 18ms/step - loss: 0.5513 - accuracy: 0.8413\n",
            "Epoch 210/300\n",
            "377/377 [==============================] - 7s 18ms/step - loss: 0.5595 - accuracy: 0.8417\n",
            "Epoch 211/300\n",
            "377/377 [==============================] - 7s 18ms/step - loss: 0.5507 - accuracy: 0.8426\n",
            "Epoch 212/300\n",
            "377/377 [==============================] - 7s 18ms/step - loss: 0.5299 - accuracy: 0.8472\n",
            "Epoch 213/300\n",
            "377/377 [==============================] - 7s 18ms/step - loss: 0.5135 - accuracy: 0.8498\n",
            "Epoch 214/300\n",
            "377/377 [==============================] - 7s 18ms/step - loss: 0.5087 - accuracy: 0.8506\n",
            "Epoch 215/300\n",
            "377/377 [==============================] - 7s 18ms/step - loss: 0.5129 - accuracy: 0.8512\n",
            "Epoch 216/300\n",
            "377/377 [==============================] - 7s 18ms/step - loss: 0.5065 - accuracy: 0.8528\n",
            "Epoch 217/300\n",
            "377/377 [==============================] - 7s 18ms/step - loss: 0.5107 - accuracy: 0.8513\n",
            "Epoch 218/300\n",
            "377/377 [==============================] - 7s 18ms/step - loss: 0.5114 - accuracy: 0.8514\n",
            "Epoch 219/300\n",
            "377/377 [==============================] - 7s 18ms/step - loss: 0.5352 - accuracy: 0.8452\n",
            "Epoch 220/300\n",
            "377/377 [==============================] - 7s 18ms/step - loss: 0.5697 - accuracy: 0.8369\n",
            "Epoch 221/300\n",
            "377/377 [==============================] - 7s 18ms/step - loss: 0.5575 - accuracy: 0.8385\n",
            "Epoch 222/300\n",
            "377/377 [==============================] - 7s 18ms/step - loss: 0.5396 - accuracy: 0.8419\n",
            "Epoch 223/300\n",
            "377/377 [==============================] - 7s 18ms/step - loss: 0.5098 - accuracy: 0.8512\n",
            "Epoch 224/300\n",
            "377/377 [==============================] - 7s 18ms/step - loss: 0.5018 - accuracy: 0.8545\n",
            "Epoch 225/300\n",
            "377/377 [==============================] - 7s 18ms/step - loss: 0.4971 - accuracy: 0.8535\n",
            "Epoch 226/300\n",
            "377/377 [==============================] - 7s 18ms/step - loss: 0.5009 - accuracy: 0.8550\n",
            "Epoch 227/300\n",
            "377/377 [==============================] - 7s 18ms/step - loss: 0.5021 - accuracy: 0.8533\n",
            "Epoch 228/300\n",
            "377/377 [==============================] - 7s 18ms/step - loss: 0.5027 - accuracy: 0.8521\n",
            "Epoch 229/300\n",
            "377/377 [==============================] - 7s 18ms/step - loss: 0.5178 - accuracy: 0.8503\n",
            "Epoch 230/300\n",
            "377/377 [==============================] - 7s 18ms/step - loss: 0.5499 - accuracy: 0.8391\n",
            "Epoch 231/300\n",
            "377/377 [==============================] - 7s 19ms/step - loss: 0.5617 - accuracy: 0.8393\n",
            "Epoch 232/300\n",
            "377/377 [==============================] - 7s 19ms/step - loss: 0.5405 - accuracy: 0.8427\n",
            "Epoch 233/300\n",
            "377/377 [==============================] - 7s 18ms/step - loss: 0.5146 - accuracy: 0.8501\n",
            "Epoch 234/300\n",
            "377/377 [==============================] - 7s 18ms/step - loss: 0.4973 - accuracy: 0.8559\n",
            "Epoch 235/300\n",
            "377/377 [==============================] - 7s 18ms/step - loss: 0.4925 - accuracy: 0.8530\n",
            "Epoch 236/300\n",
            "377/377 [==============================] - 7s 18ms/step - loss: 0.4910 - accuracy: 0.8535\n",
            "Epoch 237/300\n",
            "377/377 [==============================] - 7s 18ms/step - loss: 0.4940 - accuracy: 0.8538\n",
            "Epoch 238/300\n",
            "377/377 [==============================] - 7s 18ms/step - loss: 0.4940 - accuracy: 0.8547\n",
            "Epoch 239/300\n",
            "377/377 [==============================] - 7s 18ms/step - loss: 0.4953 - accuracy: 0.8524\n",
            "Epoch 240/300\n",
            "377/377 [==============================] - 7s 18ms/step - loss: 0.5222 - accuracy: 0.8500\n",
            "Epoch 241/300\n",
            "377/377 [==============================] - 7s 18ms/step - loss: 0.5790 - accuracy: 0.8324\n",
            "Epoch 242/300\n",
            "377/377 [==============================] - 7s 18ms/step - loss: 0.5589 - accuracy: 0.8359\n",
            "Epoch 243/300\n",
            "377/377 [==============================] - 7s 18ms/step - loss: 0.5124 - accuracy: 0.8500\n",
            "Epoch 244/300\n",
            "377/377 [==============================] - 7s 18ms/step - loss: 0.4936 - accuracy: 0.8524\n",
            "Epoch 245/300\n",
            "377/377 [==============================] - 7s 18ms/step - loss: 0.4879 - accuracy: 0.8545\n",
            "Epoch 246/300\n",
            "377/377 [==============================] - 7s 18ms/step - loss: 0.4868 - accuracy: 0.8534\n",
            "Epoch 247/300\n",
            "377/377 [==============================] - 7s 18ms/step - loss: 0.4909 - accuracy: 0.8560\n",
            "Epoch 248/300\n",
            "377/377 [==============================] - 7s 18ms/step - loss: 0.4907 - accuracy: 0.8565\n",
            "Epoch 249/300\n",
            "377/377 [==============================] - 7s 18ms/step - loss: 0.4960 - accuracy: 0.8524\n",
            "Epoch 250/300\n",
            "377/377 [==============================] - 7s 18ms/step - loss: 0.5306 - accuracy: 0.8447\n",
            "Epoch 251/300\n",
            "377/377 [==============================] - 7s 18ms/step - loss: 0.5922 - accuracy: 0.8279\n",
            "Epoch 252/300\n",
            "377/377 [==============================] - 7s 18ms/step - loss: 0.5448 - accuracy: 0.8408\n",
            "Epoch 253/300\n",
            "377/377 [==============================] - 7s 18ms/step - loss: 0.5072 - accuracy: 0.8501\n",
            "Epoch 254/300\n",
            "377/377 [==============================] - 7s 18ms/step - loss: 0.4926 - accuracy: 0.8533\n",
            "Epoch 255/300\n",
            "377/377 [==============================] - 7s 18ms/step - loss: 0.4833 - accuracy: 0.8530\n",
            "Epoch 256/300\n",
            "377/377 [==============================] - 7s 18ms/step - loss: 0.4813 - accuracy: 0.8552\n",
            "Epoch 257/300\n",
            "377/377 [==============================] - 7s 18ms/step - loss: 0.4866 - accuracy: 0.8540\n",
            "Epoch 258/300\n",
            "377/377 [==============================] - 7s 18ms/step - loss: 0.4882 - accuracy: 0.8526\n",
            "Epoch 259/300\n",
            "377/377 [==============================] - 7s 18ms/step - loss: 0.4871 - accuracy: 0.8530\n",
            "Epoch 260/300\n",
            "377/377 [==============================] - 7s 18ms/step - loss: 0.4940 - accuracy: 0.8504\n",
            "Epoch 261/300\n",
            "377/377 [==============================] - 7s 18ms/step - loss: 0.5179 - accuracy: 0.8460\n",
            "Epoch 262/300\n",
            "377/377 [==============================] - 7s 18ms/step - loss: 0.5569 - accuracy: 0.8349\n",
            "Epoch 263/300\n",
            "377/377 [==============================] - 7s 18ms/step - loss: 0.5669 - accuracy: 0.8326\n",
            "Epoch 264/300\n",
            "377/377 [==============================] - 7s 18ms/step - loss: 0.4972 - accuracy: 0.8499\n",
            "Epoch 265/300\n",
            "377/377 [==============================] - 7s 18ms/step - loss: 0.4837 - accuracy: 0.8537\n",
            "Epoch 266/300\n",
            "377/377 [==============================] - 7s 18ms/step - loss: 0.4789 - accuracy: 0.8546\n",
            "Epoch 267/300\n",
            "377/377 [==============================] - 7s 18ms/step - loss: 0.4798 - accuracy: 0.8557\n",
            "Epoch 268/300\n",
            "377/377 [==============================] - 7s 18ms/step - loss: 0.4838 - accuracy: 0.8533\n",
            "Epoch 269/300\n",
            "377/377 [==============================] - 7s 18ms/step - loss: 0.4833 - accuracy: 0.8550\n",
            "Epoch 270/300\n",
            "377/377 [==============================] - 7s 18ms/step - loss: 0.4838 - accuracy: 0.8545\n",
            "Epoch 271/300\n",
            "377/377 [==============================] - 7s 19ms/step - loss: 0.4851 - accuracy: 0.8534\n",
            "Epoch 272/300\n",
            "377/377 [==============================] - 7s 18ms/step - loss: 0.5114 - accuracy: 0.8477\n",
            "Epoch 273/300\n",
            "377/377 [==============================] - 7s 18ms/step - loss: 0.5683 - accuracy: 0.8307\n",
            "Epoch 274/300\n",
            "377/377 [==============================] - 7s 18ms/step - loss: 0.5297 - accuracy: 0.8431\n",
            "Epoch 275/300\n",
            "377/377 [==============================] - 7s 18ms/step - loss: 0.5009 - accuracy: 0.8510\n",
            "Epoch 276/300\n",
            "377/377 [==============================] - 7s 18ms/step - loss: 0.4853 - accuracy: 0.8526\n",
            "Epoch 277/300\n",
            "377/377 [==============================] - 7s 19ms/step - loss: 0.4876 - accuracy: 0.8512\n",
            "Epoch 278/300\n",
            "377/377 [==============================] - 7s 19ms/step - loss: 0.4802 - accuracy: 0.8545\n",
            "Epoch 279/300\n",
            "377/377 [==============================] - 7s 18ms/step - loss: 0.4818 - accuracy: 0.8534\n",
            "Epoch 280/300\n",
            "377/377 [==============================] - 7s 18ms/step - loss: 0.4887 - accuracy: 0.8514\n",
            "Epoch 281/300\n",
            "377/377 [==============================] - 7s 18ms/step - loss: 0.4912 - accuracy: 0.8517\n",
            "Epoch 282/300\n",
            "377/377 [==============================] - 7s 18ms/step - loss: 0.5073 - accuracy: 0.8472\n",
            "Epoch 283/300\n",
            "377/377 [==============================] - 7s 18ms/step - loss: 0.5132 - accuracy: 0.8450\n",
            "Epoch 284/300\n",
            "377/377 [==============================] - 7s 18ms/step - loss: 0.5060 - accuracy: 0.8487\n",
            "Epoch 285/300\n",
            "377/377 [==============================] - 7s 18ms/step - loss: 0.4921 - accuracy: 0.8506\n",
            "Epoch 286/300\n",
            "377/377 [==============================] - 7s 18ms/step - loss: 0.4796 - accuracy: 0.8545\n",
            "Epoch 287/300\n",
            "377/377 [==============================] - 7s 18ms/step - loss: 0.4808 - accuracy: 0.8540\n",
            "Epoch 288/300\n",
            "377/377 [==============================] - 7s 18ms/step - loss: 0.4817 - accuracy: 0.8540\n",
            "Epoch 289/300\n",
            "377/377 [==============================] - 7s 18ms/step - loss: 0.4794 - accuracy: 0.8517\n",
            "Epoch 290/300\n",
            "377/377 [==============================] - 7s 18ms/step - loss: 0.4814 - accuracy: 0.8544\n",
            "Epoch 291/300\n",
            "377/377 [==============================] - 7s 18ms/step - loss: 0.4885 - accuracy: 0.8534\n",
            "Epoch 292/300\n",
            "377/377 [==============================] - 7s 18ms/step - loss: 0.5077 - accuracy: 0.8462\n",
            "Epoch 293/300\n",
            "377/377 [==============================] - 7s 18ms/step - loss: 0.5104 - accuracy: 0.8469\n",
            "Epoch 294/300\n",
            "377/377 [==============================] - 7s 18ms/step - loss: 0.4978 - accuracy: 0.8488\n",
            "Epoch 295/300\n",
            "377/377 [==============================] - 7s 18ms/step - loss: 0.4907 - accuracy: 0.8516\n",
            "Epoch 296/300\n",
            "377/377 [==============================] - 7s 18ms/step - loss: 0.4848 - accuracy: 0.8517\n",
            "Epoch 297/300\n",
            "377/377 [==============================] - 7s 18ms/step - loss: 0.4831 - accuracy: 0.8525\n",
            "Epoch 298/300\n",
            "377/377 [==============================] - 7s 18ms/step - loss: 0.4871 - accuracy: 0.8500\n",
            "Epoch 299/300\n",
            "377/377 [==============================] - 7s 18ms/step - loss: 0.4929 - accuracy: 0.8494\n",
            "Epoch 300/300\n",
            "377/377 [==============================] - 7s 18ms/step - loss: 0.4869 - accuracy: 0.8507\n"
          ],
          "name": "stdout"
        }
      ]
    },
    {
      "cell_type": "markdown",
      "metadata": {
        "id": "CV0VswaTftqX",
        "colab_type": "text"
      },
      "source": [
        "Plot the accuracy & loss graph"
      ]
    },
    {
      "cell_type": "code",
      "metadata": {
        "id": "LiqEnsHE87TV",
        "colab_type": "code",
        "colab": {
          "base_uri": "https://localhost:8080/",
          "height": 543
        },
        "outputId": "5a178edb-178b-4fce-8f99-42117232d3a0"
      },
      "source": [
        "import matplotlib.pyplot as plt\n",
        "def plot_graphs(val):\n",
        "    plt.plot(history.history[val])\n",
        "    plt.xlabel('Epochs')\n",
        "    plt.ylabel(val)\n",
        "    plt.show()\n",
        "\n",
        "plot_graphs('accuracy')\n",
        "plot_graphs('loss')"
      ],
      "execution_count": 23,
      "outputs": [
        {
          "output_type": "display_data",
          "data": {
            "image/png": "[encoded data removed]",
            "text/plain": [
              "<Figure size 432x288 with 1 Axes>"
            ]
          },
          "metadata": {
            "tags": [],
            "needs_background": "light"
          }
        },
        {
          "output_type": "display_data",
          "data": {
            "image/png": "[encoded data removed]",
            "text/plain": [
              "<Figure size 432x288 with 1 Axes>"
            ]
          },
          "metadata": {
            "tags": [],
            "needs_background": "light"
          }
        }
      ]
    },
    {
      "cell_type": "markdown",
      "metadata": {
        "id": "PlB84cAjfzra",
        "colab_type": "text"
      },
      "source": [
        "Predict!"
      ]
    },
    {
      "cell_type": "code",
      "metadata": {
        "id": "r0N7yzJl9Pcn",
        "colab_type": "code",
        "colab": {
          "base_uri": "https://localhost:8080/",
          "height": 190
        },
        "outputId": "1532784b-cd9b-4bed-cd79-987ad90650a6"
      },
      "source": [
        "import random\n",
        "seed_text = 'Then came a sailor'\n",
        "next_words = 100\n",
        "\n",
        "for _ in range(next_words):\n",
        "    sequence = tokenizer.texts_to_sequences([seed_text])[0]\n",
        "    padded = pad_sequences([sequence], maxlen=MAX_LENGTH - 1, padding='pre')\n",
        "    predicted = model.predict_classes(padded)\n",
        "    output_word = ''\n",
        "\n",
        "    for word, index in word_index.items():\n",
        "        if index == predicted:\n",
        "            output_word = word\n",
        "            break\n",
        "\n",
        "    seed_text += f' {output_word}'\n",
        "\n",
        "# print in the format of a poetry\n",
        "words = seed_text.split(\" \")\n",
        "text = \"\"\n",
        "count = 0\n",
        "for word in words:\n",
        "  count += 1\n",
        "  r = random.randint(8, 16)\n",
        "  if count >= r :\n",
        "    count = 0\n",
        "    text += f' {word} \\n'\n",
        "  else:\n",
        "    text += f' {word}'\n",
        "\n",
        "print(text)"
      ],
      "execution_count": 42,
      "outputs": [
        {
          "output_type": "stream",
          "text": [
            " Then came a sailor a the truth in \n",
            " peace ned melting snow with feet corporal casey to love so runaway and saw \n",
            " their rent and those wailing desolation mcbryde be your eyes fell \n",
            " behind behind his right ray that loud to great why i spent \n",
            " gone to wines of tralee an pretty rose are on \n",
            " their wheel thats my comb mary lamenting say your neatest love apron \n",
            " are they and you did her the truth in erin go \n",
            " nor and red far and stainless then i puff whiskey and low can \n",
            " look as i home kept old hall seen loch brown of \n",
            " this more\n"
          ],
          "name": "stdout"
        }
      ]
    },
    {
      "cell_type": "markdown",
      "metadata": {
        "id": "oRBI2TyLf8zr",
        "colab_type": "text"
      },
      "source": [
        "And that's it! This is a poetry generated by your Deep Learning NLP model based on the Irish poetry dataset from Laurence Moroney.\n",
        "\n",
        "The model has been fine-tuned previously so as not to have repetitions.\n",
        "\n",
        "I have deliberately not used a Bidirectional LSTM as we're always predicting the next word."
      ]
    }
  ]
}