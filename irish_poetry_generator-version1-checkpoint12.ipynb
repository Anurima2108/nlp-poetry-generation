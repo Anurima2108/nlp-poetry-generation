{
  "nbformat": 4,
  "nbformat_minor": 0,
  "metadata": {
    "colab": {
      "name": "irish-poetry-generator.ipynb",
      "provenance": []
    },
    "kernelspec": {
      "name": "python3",
      "display_name": "Python 3"
    },
    "accelerator": "GPU"
  },
  "cells": [
    {
      "cell_type": "markdown",
      "metadata": {
        "id": "-hcy4revdXwd"
      },
      "source": [
        "**Automatically generate Irish poetry using Deep Learning**"
      ]
    },
    {
      "cell_type": "markdown",
      "metadata": {
        "id": "SbszNwgYdiV5"
      },
      "source": [
        "Import the libraries"
      ]
    },
    {
      "cell_type": "code",
      "metadata": {
        "id": "z481IvHow7P6",
        "colab": {
          "base_uri": "https://localhost:8080/"
        },
        "outputId": "9874d84b-1884-42c3-96ef-aff601dbb5b2"
      },
      "source": [
        "#1 \n",
        "import tensorflow as tf\n",
        "from tensorflow.keras.layers import Embedding, Bidirectional, LSTM, Dense\n",
        "from tensorflow.keras.models import Sequential\n",
        "from tensorflow.keras.preprocessing.text import Tokenizer\n",
        "from tensorflow.keras.preprocessing.sequence import pad_sequences\n",
        "\n",
        "import numpy as np\n",
        "print(tf.__version__)"
      ],
      "execution_count": 1,
      "outputs": [
        {
          "output_type": "stream",
          "name": "stdout",
          "text": [
            "2.9.2\n"
          ]
        }
      ]
    },
    {
      "cell_type": "markdown",
      "metadata": {
        "id": "IMAssebCduDp"
      },
      "source": [
        "Download the dataset"
      ]
    },
    {
      "cell_type": "code",
      "metadata": {
        "id": "NEdccqgs8GTj",
        "colab": {
          "base_uri": "https://localhost:8080/",
          "height": 70
        },
        "outputId": "4548854c-9140-412e-bad0-e88ccc4bb8e4"
      },
      "source": [
        "#2 \n",
        "import os\n",
        "dataset_url = \"https://storage.googleapis.com/laurencemoroney-blog.appspot.com/irish-lyrics-eof.txt\"\n",
        "filename = os.path.join(os.getcwd(), \"irish-lyrics.txt\")\n",
        "tf.keras.utils.get_file(filename, origin=dataset_url)"
      ],
      "execution_count": 2,
      "outputs": [
        {
          "output_type": "stream",
          "name": "stdout",
          "text": [
            "Downloading data from https://storage.googleapis.com/laurencemoroney-blog.appspot.com/irish-lyrics-eof.txt\n",
            "68970/68970 [==============================] - 0s 2us/step\n"
          ]
        },
        {
          "output_type": "execute_result",
          "data": {
            "text/plain": [
              "'/content/irish-lyrics.txt'"
            ],
            "application/vnd.google.colaboratory.intrinsic+json": {
              "type": "string"
            }
          },
          "metadata": {},
          "execution_count": 2
        }
      ]
    },
    {
      "cell_type": "markdown",
      "metadata": {
        "id": "QBudLaeUd2Ha"
      },
      "source": [
        "Read the contents of the dataset and add to corpus"
      ]
    },
    {
      "cell_type": "code",
      "metadata": {
        "id": "TBgbp4XC8M7L",
        "colab": {
          "base_uri": "https://localhost:8080/"
        },
        "outputId": "f61df4df-2de1-4218-ca9b-a8e311e73d4c"
      },
      "source": [
        "#3\n",
        "corpus = []\n",
        "with open(filename, 'r') as f:\n",
        "    for line in f:\n",
        "        line = line.replace(\"\\n\", \"\")\n",
        "        corpus.append(line)\n",
        "\n",
        "corpus[: 10]"
      ],
      "execution_count": 3,
      "outputs": [
        {
          "output_type": "execute_result",
          "data": {
            "text/plain": [
              "['Come all ye maidens young and fair',\n",
              " 'And you that are blooming in your prime',\n",
              " 'Always beware and keep your garden fair',\n",
              " 'Let no man steal away your thyme',\n",
              " 'For thyme it is a precious thing',\n",
              " 'And thyme brings all things to my mind',\n",
              " 'nlyme with all its flavours, along with all its joys',\n",
              " 'Thyme, brings all things to my mind',\n",
              " 'Once I and a bunch of thyme',\n",
              " 'i thought it never would decay']"
            ]
          },
          "metadata": {},
          "execution_count": 3
        }
      ]
    },
    {
      "cell_type": "code",
      "metadata": {
        "id": "0d8NIi3p8Rf0",
        "colab": {
          "base_uri": "https://localhost:8080/"
        },
        "outputId": "c984ceab-8c3b-49fa-e756-5f56b9dbf3a8"
      },
      "source": [
        "#4\n",
        "import itertools\n",
        "tokenizer = Tokenizer()\n",
        "tokenizer.fit_on_texts(corpus)\n",
        "word_index = tokenizer.word_index\n",
        "vocab_size = len(word_index)\n",
        "\n",
        "print(\"Word Index Items (first 10) :\\n\", dict(itertools.islice(word_index.items(), 10)))\n",
        "print(\"\\n Vocab Size : \", vocab_size)"
      ],
      "execution_count": 4,
      "outputs": [
        {
          "output_type": "stream",
          "name": "stdout",
          "text": [
            "Word Index Items (first 10) :\n",
            " {'the': 1, 'and': 2, 'i': 3, 'to': 4, 'a': 5, 'of': 6, 'my': 7, 'in': 8, 'me': 9, 'for': 10}\n",
            "\n",
            " Vocab Size :  2689\n"
          ]
        }
      ]
    },
    {
      "cell_type": "markdown",
      "metadata": {
        "id": "3L9I-seGfLxN"
      },
      "source": [
        "Convert all text to corresponding tokens and generate all combinations of inputs"
      ]
    },
    {
      "cell_type": "code",
      "metadata": {
        "id": "V9ASLBX88coY",
        "colab": {
          "base_uri": "https://localhost:8080/"
        },
        "outputId": "fe446ed0-1bb8-4852-9aa3-bffa7d7eb21a"
      },
      "source": [
        "#5\n",
        "input_sequences = []\n",
        "sequences = tokenizer.texts_to_sequences(corpus)\n",
        "\n",
        "for sequence in sequences:\n",
        "    for i in range(1, len(sequence)):\n",
        "        n_gram = sequence[: i + 1]\n",
        "        input_sequences.append(n_gram)\n",
        "\n",
        "input_sequences[: 10]"
      ],
      "execution_count": 5,
      "outputs": [
        {
          "output_type": "execute_result",
          "data": {
            "text/plain": [
              "[[51, 12],\n",
              " [51, 12, 96],\n",
              " [51, 12, 96, 1217],\n",
              " [51, 12, 96, 1217, 48],\n",
              " [51, 12, 96, 1217, 48, 2],\n",
              " [51, 12, 96, 1217, 48, 2, 69],\n",
              " [2, 11],\n",
              " [2, 11, 15],\n",
              " [2, 11, 15, 31],\n",
              " [2, 11, 15, 31, 361]]"
            ]
          },
          "metadata": {},
          "execution_count": 5
        }
      ]
    },
    {
      "cell_type": "markdown",
      "metadata": {
        "id": "k7ww2PycfXcp"
      },
      "source": [
        "Pad the input sequences and get x & y"
      ]
    },
    {
      "cell_type": "code",
      "metadata": {
        "id": "ctPYAWaj8hkz"
      },
      "source": [
        "#6\n",
        "MAX_LENGTH = max(len(n_gram) for n_gram in input_sequences)\n",
        "padded = pad_sequences(input_sequences, maxlen=MAX_LENGTH, padding='pre')\n",
        "\n",
        "\n",
        "x, labels = padded[:, : -1], padded[:, -1]\n",
        "\n",
        "# one-hot encode the labels\n",
        "y = tf.keras.utils.to_categorical(labels, num_classes=vocab_size + 1)"
      ],
      "execution_count": 6,
      "outputs": []
    },
    {
      "cell_type": "markdown",
      "metadata": {
        "id": "tywQZlmAfplB"
      },
      "source": [
        "Define the model"
      ]
    },
    {
      "cell_type": "code",
      "metadata": {
        "id": "DVBwbOEI8xFx",
        "colab": {
          "base_uri": "https://localhost:8080/"
        },
        "outputId": "bcc84a9d-1f10-4dd9-d647-19ad6f1a319d"
      },
      "source": [
        "#7\n",
        "model = Sequential([\n",
        "    Embedding(input_dim=vocab_size + 1, output_dim=128, input_length=MAX_LENGTH - 1),\n",
        "    LSTM(128, return_sequences=True),\n",
        "    LSTM(64),\n",
        "    Dense(100, 'relu'),\n",
        "    Dense(vocab_size + 1, 'softmax')\n",
        "])\n",
        "\n",
        "model.compile(loss='categorical_crossentropy', \n",
        "              optimizer='adam', \n",
        "              metrics=['accuracy'])\n",
        "model.summary()"
      ],
      "execution_count": 7,
      "outputs": [
        {
          "output_type": "stream",
          "name": "stdout",
          "text": [
            "Model: \"sequential\"\n",
            "_________________________________________________________________\n",
            " Layer (type)                Output Shape              Param #   \n",
            "=================================================================\n",
            " embedding (Embedding)       (None, 15, 128)           344320    \n",
            "                                                                 \n",
            " lstm (LSTM)                 (None, 15, 128)           131584    \n",
            "                                                                 \n",
            " lstm_1 (LSTM)               (None, 64)                49408     \n",
            "                                                                 \n",
            " dense (Dense)               (None, 100)               6500      \n",
            "                                                                 \n",
            " dense_1 (Dense)             (None, 2690)              271690    \n",
            "                                                                 \n",
            "=================================================================\n",
            "Total params: 803,502\n",
            "Trainable params: 803,502\n",
            "Non-trainable params: 0\n",
            "_________________________________________________________________\n"
          ]
        }
      ]
    },
    {
      "cell_type": "markdown",
      "metadata": {
        "id": "asoSdQKTfr2c"
      },
      "source": [
        "Fit"
      ]
    },
    {
      "cell_type": "code",
      "metadata": {
        "id": "4chMVI7U81ZS",
        "colab": {
          "base_uri": "https://localhost:8080/"
        },
        "outputId": "a5ca9a22-0547-4df9-f006-94b88994353d"
      },
      "source": [
        "#8\n",
        "history = model.fit(x, y, epochs=10)"
      ],
      "execution_count": 9,
      "outputs": [
        {
          "output_type": "stream",
          "name": "stdout",
          "text": [
            "Epoch 1/10\n",
            "377/377 [==============================] - 21s 54ms/step - loss: 4.5939 - accuracy: 0.1547\n",
            "Epoch 2/10\n",
            "377/377 [==============================] - 20s 54ms/step - loss: 4.4943 - accuracy: 0.1588\n",
            "Epoch 3/10\n",
            "377/377 [==============================] - 21s 55ms/step - loss: 4.4102 - accuracy: 0.1645\n",
            "Epoch 4/10\n",
            "377/377 [==============================] - 22s 58ms/step - loss: 4.3225 - accuracy: 0.1685\n",
            "Epoch 5/10\n",
            "377/377 [==============================] - 21s 54ms/step - loss: 4.2324 - accuracy: 0.1774\n",
            "Epoch 6/10\n",
            "377/377 [==============================] - 21s 55ms/step - loss: 4.1416 - accuracy: 0.1817\n",
            "Epoch 7/10\n",
            "377/377 [==============================] - 20s 54ms/step - loss: 4.0490 - accuracy: 0.1915\n",
            "Epoch 8/10\n",
            "377/377 [==============================] - 23s 61ms/step - loss: 3.9618 - accuracy: 0.2003\n",
            "Epoch 9/10\n",
            "377/377 [==============================] - 21s 55ms/step - loss: 3.8655 - accuracy: 0.2074\n",
            "Epoch 10/10\n",
            "377/377 [==============================] - 21s 55ms/step - loss: 3.7804 - accuracy: 0.2180\n"
          ]
        }
      ]
    },
    {
      "cell_type": "markdown",
      "metadata": {
        "id": "CV0VswaTftqX"
      },
      "source": [
        "Plot the accuracy & loss graph"
      ]
    },
    {
      "cell_type": "code",
      "metadata": {
        "id": "LiqEnsHE87TV",
        "colab": {
          "base_uri": "https://localhost:8080/",
          "height": 542
        },
        "outputId": "a11b5229-0cde-48cb-9a7f-b56385025e0c"
      },
      "source": [
        "#9\n",
        "import matplotlib.pyplot as plt\n",
        "def plot_graphs(val):\n",
        "    plt.plot(history.history[val])\n",
        "    plt.xlabel('Epochs')\n",
        "    plt.ylabel(val)\n",
        "    plt.show()\n",
        "\n",
        "plot_graphs('accuracy')\n",
        "plot_graphs('loss')"
      ],
      "execution_count": 10,
      "outputs": [
        {
          "output_type": "display_data",
          "data": {
            "text/plain": [
              "<Figure size 432x288 with 1 Axes>"
            ],
            "image/png": "[encoded data removed]"
          },
          "metadata": {
            "needs_background": "light"
          }
        },
        {
          "output_type": "display_data",
          "data": {
            "text/plain": [
              "<Figure size 432x288 with 1 Axes>"
            ],
            "image/png": "[encoded data removed]"
          },
          "metadata": {
            "needs_background": "light"
          }
        }
      ]
    },
    {
      "cell_type": "markdown",
      "metadata": {
        "id": "PlB84cAjfzra"
      },
      "source": [
        "Predict!"
      ]
    },
    {
      "cell_type": "code",
      "metadata": {
        "id": "r0N7yzJl9Pcn",
        "colab": {
          "base_uri": "https://localhost:8080/"
        },
        "outputId": "26567759-0b3b-47e2-bceb-2adbcd2ad5b8"
      },
      "source": [
        "#10\n",
        "import random\n",
        "seed_text = 'Then came a sailor'\n",
        "next_words = 100\n",
        "\n",
        "for _ in range(next_words):\n",
        "    sequence = tokenizer.texts_to_sequences([seed_text])[0]\n",
        "    padded = pad_sequences([sequence], maxlen=MAX_LENGTH - 1, padding='pre')\n",
        "    #predicted = model.predict_classes(padded)\n",
        "    predicted = np.argmax(model.predict(padded),axis=1)\n",
        "    output_word = ''\n",
        "\n",
        "    for word, index in word_index.items():\n",
        "        if index == predicted:\n",
        "            output_word = word\n",
        "            break\n",
        "\n",
        "    seed_text += f' {output_word}'\n",
        "\n",
        "# print in the format of a poetry\n",
        "words = seed_text.split(\" \")\n",
        "text = \"\"\n",
        "count = 0\n",
        "for word in words:\n",
        "  count += 1\n",
        "  r = random.randint(8, 16)\n",
        "  if count >= r :\n",
        "    count = 0\n",
        "    text += f' {word} \\n'\n",
        "  else:\n",
        "    text += f' {word}'\n",
        "\n",
        "print(text)"
      ],
      "execution_count": 12,
      "outputs": [
        {
          "output_type": "stream",
          "name": "stdout",
          "text": [
            "1/1 [==============================] - 1s 916ms/step\n",
            "1/1 [==============================] - 0s 21ms/step\n",
            "1/1 [==============================] - 0s 23ms/step\n",
            "1/1 [==============================] - 0s 23ms/step\n",
            "1/1 [==============================] - 0s 24ms/step\n",
            "1/1 [==============================] - 0s 25ms/step\n",
            "1/1 [==============================] - 0s 21ms/step\n",
            "1/1 [==============================] - 0s 23ms/step\n",
            "1/1 [==============================] - 0s 22ms/step\n",
            "1/1 [==============================] - 0s 21ms/step\n",
            "1/1 [==============================] - 0s 24ms/step\n",
            "1/1 [==============================] - 0s 21ms/step\n",
            "1/1 [==============================] - 0s 22ms/step\n",
            "1/1 [==============================] - 0s 23ms/step\n",
            "1/1 [==============================] - 0s 21ms/step\n",
            "1/1 [==============================] - 0s 22ms/step\n",
            "1/1 [==============================] - 0s 22ms/step\n",
            "1/1 [==============================] - 0s 22ms/step\n",
            "1/1 [==============================] - 0s 21ms/step\n",
            "1/1 [==============================] - 0s 25ms/step\n",
            "1/1 [==============================] - 0s 29ms/step\n",
            "1/1 [==============================] - 0s 23ms/step\n",
            "1/1 [==============================] - 0s 24ms/step\n",
            "1/1 [==============================] - 0s 22ms/step\n",
            "1/1 [==============================] - 0s 21ms/step\n",
            "1/1 [==============================] - 0s 27ms/step\n",
            "1/1 [==============================] - 0s 21ms/step\n",
            "1/1 [==============================] - 0s 22ms/step\n",
            "1/1 [==============================] - 0s 26ms/step\n",
            "1/1 [==============================] - 0s 21ms/step\n",
            "1/1 [==============================] - 0s 20ms/step\n",
            "1/1 [==============================] - 0s 25ms/step\n",
            "1/1 [==============================] - 0s 21ms/step\n",
            "1/1 [==============================] - 0s 24ms/step\n",
            "1/1 [==============================] - 0s 21ms/step\n",
            "1/1 [==============================] - 0s 25ms/step\n",
            "1/1 [==============================] - 0s 23ms/step\n",
            "1/1 [==============================] - 0s 29ms/step\n",
            "1/1 [==============================] - 0s 20ms/step\n",
            "1/1 [==============================] - 0s 21ms/step\n",
            "1/1 [==============================] - 0s 27ms/step\n",
            "1/1 [==============================] - 0s 23ms/step\n",
            "1/1 [==============================] - 0s 21ms/step\n",
            "1/1 [==============================] - 0s 21ms/step\n",
            "1/1 [==============================] - 0s 22ms/step\n",
            "1/1 [==============================] - 0s 27ms/step\n",
            "1/1 [==============================] - 0s 26ms/step\n",
            "1/1 [==============================] - 0s 23ms/step\n",
            "1/1 [==============================] - 0s 24ms/step\n",
            "1/1 [==============================] - 0s 20ms/step\n",
            "1/1 [==============================] - 0s 28ms/step\n",
            "1/1 [==============================] - 0s 21ms/step\n",
            "1/1 [==============================] - 0s 21ms/step\n",
            "1/1 [==============================] - 0s 22ms/step\n",
            "1/1 [==============================] - 0s 29ms/step\n",
            "1/1 [==============================] - 0s 23ms/step\n",
            "1/1 [==============================] - 0s 23ms/step\n",
            "1/1 [==============================] - 0s 21ms/step\n",
            "1/1 [==============================] - 0s 23ms/step\n",
            "1/1 [==============================] - 0s 21ms/step\n",
            "1/1 [==============================] - 0s 21ms/step\n",
            "1/1 [==============================] - 0s 21ms/step\n",
            "1/1 [==============================] - 0s 21ms/step\n",
            "1/1 [==============================] - 0s 25ms/step\n",
            "1/1 [==============================] - 0s 21ms/step\n",
            "1/1 [==============================] - 0s 21ms/step\n",
            "1/1 [==============================] - 0s 21ms/step\n",
            "1/1 [==============================] - 0s 22ms/step\n",
            "1/1 [==============================] - 0s 23ms/step\n",
            "1/1 [==============================] - 0s 22ms/step\n",
            "1/1 [==============================] - 0s 21ms/step\n",
            "1/1 [==============================] - 0s 22ms/step\n",
            "1/1 [==============================] - 0s 22ms/step\n",
            "1/1 [==============================] - 0s 21ms/step\n",
            "1/1 [==============================] - 0s 25ms/step\n",
            "1/1 [==============================] - 0s 22ms/step\n",
            "1/1 [==============================] - 0s 22ms/step\n",
            "1/1 [==============================] - 0s 23ms/step\n",
            "1/1 [==============================] - 0s 22ms/step\n",
            "1/1 [==============================] - 0s 23ms/step\n",
            "1/1 [==============================] - 0s 25ms/step\n",
            "1/1 [==============================] - 0s 23ms/step\n",
            "1/1 [==============================] - 0s 21ms/step\n",
            "1/1 [==============================] - 0s 22ms/step\n",
            "1/1 [==============================] - 0s 21ms/step\n",
            "1/1 [==============================] - 0s 21ms/step\n",
            "1/1 [==============================] - 0s 24ms/step\n",
            "1/1 [==============================] - 0s 21ms/step\n",
            "1/1 [==============================] - 0s 27ms/step\n",
            "1/1 [==============================] - 0s 23ms/step\n",
            "1/1 [==============================] - 0s 23ms/step\n",
            "1/1 [==============================] - 0s 21ms/step\n",
            "1/1 [==============================] - 0s 22ms/step\n",
            "1/1 [==============================] - 0s 22ms/step\n",
            "1/1 [==============================] - 0s 21ms/step\n",
            "1/1 [==============================] - 0s 22ms/step\n",
            "1/1 [==============================] - 0s 22ms/step\n",
            "1/1 [==============================] - 0s 22ms/step\n",
            "1/1 [==============================] - 0s 22ms/step\n",
            "1/1 [==============================] - 0s 25ms/step\n",
            " Then came a sailor should a heart and the sun that i \n",
            " can see the wild rover oer you i took a wild \n",
            " rover oer the wild gardens to more taken i said \n",
            " you be unto take a man is be up a \n",
            " health to the bridge of toome today and \n",
            " brave and heavenward of heavem a heart of the town \n",
            " eyes spleen i was taken a wild flower oer the \n",
            " bow is you i was born in ballyjamesduff and thee \n",
            " i go roamin from a ball swings the bow is \n",
            " the town of doneen rosin the bow is \n",
            " the town and eer the\n"
          ]
        }
      ]
    },
    {
      "cell_type": "markdown",
      "metadata": {
        "id": "oRBI2TyLf8zr"
      },
      "source": [
        "And that's it! This is a poetry generated by your Deep Learning NLP model based on the Irish poetry dataset from Laurence Moroney.\n",
        "\n",
        "The model has been fine-tuned previously so as not to have repetitions.\n",
        "\n",
        "I have deliberately not used a Bidirectional LSTM as we're always predicting the next word."
      ]
    }
  ]
}